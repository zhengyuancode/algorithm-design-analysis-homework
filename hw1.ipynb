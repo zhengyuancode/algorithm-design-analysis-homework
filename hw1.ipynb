{
 "cells": [
  {
   "cell_type": "markdown",
   "metadata": {},
   "source": [
    "## algorithm design and anlysis-2025 spring  homework 1 \n",
    "**Deadline**：2025.5.14\n",
    "\n",
    "**name**:\n",
    "\n",
    "\n",
    "note：\n",
    "---\n",
    "1. 带有\\*的题目，申请免上课的同学，必须完成，其他同学选作；\n",
    "2. 请独立完成，如求助了他人或者大模型，请著明，并且不可省略算法分析部分；\n",
    "4. 如若作答有雷同，全部取消成绩；\n",
    "3. 需要书面作答的题目，可以通过引用图片的形式添加，但是注意上传项目时包含所引用的图片的源文件；\n",
    "4. $log_n$ 默认表示$log_2{n}$;"
   ]
  },
  {
   "cell_type": "markdown",
   "metadata": {},
   "source": [
    "## 问题 1\n",
    "\n",
    "对于下面的每一对表达式(A, B), A是否能表示为B的 $\\Theta, \\Omega ,O$形式. 请注意, 这些关系中的零个、一个或多个可能成立。列出所有正确的。经常发生一些学生会,把指示写错, 所以请把关系写完整, 例如: $A = O(B),  A =\\Theta(B)$, 或$A = \\Omega(B)$。\n",
    "\n",
    "1. $A=n^2-100n, B=n^2$\n",
    "2. $A=logn, B=log_{1.2}n$\n",
    "3. $A=3^{2n}, B=2^{4n}$\n",
    "4. $A=2^{logn}, B=n$\n",
    "5. $A=\\log{\\log}{n},B=10^{10^{100}}$"
   ]
  },
  {
   "cell_type": "markdown",
   "metadata": {},
   "source": [
    "can refer a handwritten picture, pleas upload the picture in /fig/xxx.png\n",
    "\n",
    "answer:\n",
    "\n",
    "![q1.1](./fig/answer/hw1-q1.1.jpg)\n",
    "![q1.2](./fig/answer/hw1-q1.2.jpg)\n",
    "![q1.3](./fig/answer/hw1-q1.3.jpg)\n"
   ]
  },
  {
   "cell_type": "markdown",
   "metadata": {},
   "source": [
    "## 问题 2：\n",
    "\n",
    "假设有函数 $f$ 和 $g$ 使得 $f(n)$ = $O(g(n))$ 对于下面的每一个陈述, 请判断对错, 如果正确请给出证明, 否则请给出一个反例。\n",
    "\n",
    "1. $\\log{f(n)}$ = $O(\\log(1+g(n)))$\n",
    "2. $3^{f(n)}=O(3^{g(n)})$\n",
    "3. $(f(n))^2=O((g(n))^2)$ "
   ]
  },
  {
   "cell_type": "markdown",
   "metadata": {},
   "source": [
    "you can refer a handwritten picture, pleas upload the picture in /fig/xxx.png\n",
    "\n",
    "answer:\n",
    "\n",
    "![q2.1](./fig/answer/hw1-q2.1.jpg)\n",
    "![q2.2](./fig/answer/hw1-q2.2.jpg)"
   ]
  },
  {
   "cell_type": "markdown",
   "metadata": {},
   "source": [
    "## 问题 3\n",
    "\n",
    "根据下列递归公式, 计算下列 $T(n)$ 对应的的渐近上界。要求所求的边界尽可能的紧（tight）, 请写明步骤。\n",
    "\n",
    "1. $T(1)=1; T(n)=T(n/4)+1$ for $n>1$\n",
    "2. $T(1)=1;T(n)=3T(n/3)+n^2$ for $n>1$\n",
    "3. $T(1)=1;T(n)=T(2n/3)+1$ for $n>1$\n",
    "4. $T(1)=1;T(n)=5T(n/4)+n$ for $n>1$\n",
    "5. $T(n)=1 \\ for\\ n \\le 2 ; T(n)=T(\\sqrt{n})+1 \\ for \\ n>2$"
   ]
  },
  {
   "cell_type": "markdown",
   "metadata": {},
   "source": [
    "can refer a handwritten picture, pleas upload the picture in /fig/xxx.png\n",
    "\n",
    "\n",
    "answer:\n",
    "\n",
    "![q3.1](./fig/answer/hw1-q3.1.jpg)\n",
    "![q3.2](./fig/answer/hw1-q3.2.jpg)"
   ]
  },
  {
   "cell_type": "markdown",
   "metadata": {},
   "source": [
    "## 问题 4：\n",
    "\n",
    "给定一个包含n个元素的数组 `profits` , 它的第 `i` 个元素 `profits[i]` 表示一支股票第 `i` 天的**收益**（正数表示涨, 负数表示跌）。你只能选择 **某一天** 买入这只股票, 并选择在 **未来的某一个不同的日子** 卖出该股票。\n",
    "\n",
    "1. 设计一个算法来计算你所能获取的最大利润和对应买入和卖出的日期。请分析算法方案, 计算其时间复杂度, 并且使用python编程实现该算法。\n",
    "\n",
    "2. \\* 设计一个时间复杂度为 $O(n)$的算法实现该算法\n",
    "\n",
    "e.g. :\n",
    "---\n",
    "profits=[3,2,1,-7,5,2,-1,3,-1], 第5天买入, 第8天卖出, 收益最大：9\n",
    "\n"
   ]
  },
  {
   "cell_type": "markdown",
   "metadata": {},
   "source": [
    "idea: $O(n)$ 的算法实现如下"
   ]
  },
  {
   "cell_type": "code",
   "execution_count": 7,
   "metadata": {},
   "outputs": [
    {
     "name": "stdout",
     "output_type": "stream",
     "text": [
      "第5天买入，第8天卖出，收益最大：9\n"
     ]
    }
   ],
   "source": [
    "# add your code & O(n)\n",
    "def max_profit_days(profits):\n",
    "    max_so_far = -float('inf')\n",
    "    current_max = 0\n",
    "    start = 0\n",
    "    end = 0\n",
    "    temp_start = 0\n",
    "    n = len(profits)\n",
    "    \n",
    "    for i in range(n):\n",
    "        current_max += profits[i]\n",
    "        if current_max > max_so_far:\n",
    "            max_so_far = current_max\n",
    "            start = temp_start\n",
    "            end = i\n",
    "        if current_max < 0:\n",
    "            current_max = 0\n",
    "            temp_start = i + 1\n",
    "    \n",
    "    if max_so_far < 0:\n",
    "        return (0, 0, 0)\n",
    "    else:\n",
    "        return (max_so_far, start + 1, end + 1)\n",
    "\n",
    "# 示例测试\n",
    "profits = [3, 2, 1, -7, 5, 2, -1, 3, -1]\n",
    "max_profit, buy_day, sell_day = max_profit_days(profits)\n",
    "print(f\"第{buy_day}天买入，第{sell_day}天卖出，收益最大：{max_profit}\")"
   ]
  },
  {
   "cell_type": "markdown",
   "metadata": {},
   "source": [
    "an algorithm with $O(n)$ & my analysis:\n",
    "\n",
    "Kadane算法\n",
    "\n",
    "这种方法将问题转化为寻找最大子数组和的问题。我们可以遍历数组，维护当前的最大子数组和，并记录其起始和结束索引。当当前子数组和为负时，重置当前和为0，并更新起始索引。这种方法的时间复杂度为O(n)。\n",
    "\n",
    "代码解释\n",
    "\n",
    "初始化变量：max_so_far 用于记录最大子数组和，current_max 用于记录当前子数组的和，start 和 end 用于记录最大子数组的起始和结束索引，temp_start 用于临时记录当前子数组的起始索引。\n",
    "\n",
    "遍历数组：每次迭代时，将当前元素加到 current_max 中。如果当前子数组和超过 max_so_far，则更新 max_so_far 和对应的起始、结束索引。如果当前子数组和为负，则重置 current_max 为0，并更新临时起始索引为下一个位置。\n",
    "\n",
    "另外如果最大子数组和为负，说明所有交易均亏损，返回收益0。否则，返回最大收益及其对应的买入和卖出日期。\n"
   ]
  },
  {
   "cell_type": "markdown",
   "metadata": {},
   "source": [
    "## 问题 5：\n",
    "\n",
    "观察下方的分治算法（divide-and-conquer algorithm）的伪代码, 回答下面问题\n",
    "\n",
    "```latex\n",
    "DoSomething(A,p,r)\n",
    "-----\n",
    "n := r-p+1\n",
    "if n=2 and A[p]>A[r] then\n",
    "    swap A[p] and A[r]\n",
    "else if n >= 3 then\n",
    "    m = ceil(2n/3)\n",
    "    DoSomething(A,p,p+m-1)\n",
    "    DoSomething(A,r-m+1,r)\n",
    "    DoSomething(A,p,p+m-1)  \n",
    "    \n",
    "---\n",
    "first call: DoSomething(A,1,n)\n",
    "```\n",
    "\n",
    "note：$ceil(2n/3)=\\left\\lceil {2n/3} \\right\\rceil$；$:=$ 表示赋值, 等价于 $\\to$；A是一个包含n的整数元素的数组, \n",
    "\n",
    "1. 写出该算法时间复杂度的递归公式, 并求解其对应的渐进表示\n",
    "2. 描述一下该算法的功能, 并判断是否是最高效的解决方案\n",
    "3. 使用python编程实现上述算法或其对应的更高效版本的算法\n"
   ]
  },
  {
   "cell_type": "markdown",
   "metadata": {},
   "source": [
    "idea："
   ]
  },
  {
   "cell_type": "markdown",
   "metadata": {},
   "source": [
    "![q5](./fig/answer/hw1-q5.jpg)"
   ]
  },
  {
   "cell_type": "markdown",
   "metadata": {},
   "source": [
    "2. 功能描述\n",
    "\n",
    "上述算法通过递归分治对数组进行排序，核心的逻辑是当n=2且逆序时直接交换两个元素，当n>=3时，将数组划分为三个部分，即前$2n/3$，后$2n/3$和重复处理前的部分，接下来递归排序并重复操作\n",
    "\n",
    "判断：\n",
    "\n",
    "应该不是最高效的方案，由题1可知算法的时间复杂度远高于标准的排序算法，例如归并排序，算法中存在冗余的递归调用，比如重复处理前$2n/3$的部分。"
   ]
  },
  {
   "cell_type": "markdown",
   "metadata": {},
   "source": [
    "answer:"
   ]
  },
  {
   "cell_type": "code",
   "execution_count": 8,
   "metadata": {},
   "outputs": [
    {
     "name": "stdout",
     "output_type": "stream",
     "text": [
      "排序结果: [2, 3, 4, 5, 8]\n"
     ]
    }
   ],
   "source": [
    "# add your code here （这里使用归并排序）\n",
    "def merge_sort(A):\n",
    "    if len(A) <= 1:\n",
    "        return A\n",
    "    mid = len(A) // 2\n",
    "    left = merge_sort(A[:mid])\n",
    "    right = merge_sort(A[mid:])\n",
    "    return merge(left, right)\n",
    "\n",
    "def merge(left, right):\n",
    "    result = []\n",
    "    i = j = 0\n",
    "    while i < len(left) and j < len(right):\n",
    "        if left[i] < right[j]:\n",
    "            result.append(left[i])\n",
    "            i += 1\n",
    "        else:\n",
    "            result.append(right[j])\n",
    "            j += 1\n",
    "    result.extend(left[i:])\n",
    "    result.extend(right[j:])\n",
    "    return result\n",
    "\n",
    "# 调用示例\n",
    "A = [5, 3, 8, 4, 2]\n",
    "sorted_A = merge_sort(A)\n",
    "print(\"排序结果:\", sorted_A)\n",
    "# your algorithm time complexity is : O(nlogn)"
   ]
  },
  {
   "cell_type": "markdown",
   "metadata": {},
   "source": [
    "## 问题 6：\n",
    "\n",
    "给定一个大小为 `n` 的数组 `nums` , 返回其中的多数元素。多数元素是指在数组中出现次数 **大于** `⌊ n/2 ⌋` 的元素。\n",
    "\n",
    "你可以假设数组是非空的, 并且给定的数组总是存在多数元素。\n",
    "\n",
    "1. 设计一个算法找到给定数组的多数元素, 分析算法设计思路, 计算算法时间复杂度, 使用python编程实现\n",
    "2. \\* 设计时间复杂度为 O(n)、空间复杂度为 O(1) 的算法解决此问题, 分析算法设计思路, 使用python编程实现\n",
    "\n",
    "e.g.:\n",
    "---\n",
    "1. nums=[3,2,3], 返回3\n",
    "2. nums=[2,2,1,1,1,2,2], 返回2\n"
   ]
  },
  {
   "cell_type": "markdown",
   "metadata": {},
   "source": [
    "idea："
   ]
  },
  {
   "cell_type": "code",
   "execution_count": 9,
   "metadata": {},
   "outputs": [
    {
     "name": "stdout",
     "output_type": "stream",
     "text": [
      "3\n",
      "2\n"
     ]
    }
   ],
   "source": [
    "# add your code here\n",
    "def majority_element(nums):\n",
    "    # 抵消阶段：找出候选元素\n",
    "    candidate = None\n",
    "    count = 0\n",
    "    for num in nums:\n",
    "        if count == 0:\n",
    "            candidate = num\n",
    "            count = 1\n",
    "        elif num == candidate:\n",
    "            count += 1\n",
    "        else:\n",
    "            count -= 1\n",
    "\n",
    "    # 验证阶段：确认候选元素是否为多数元素\n",
    "    count = 0\n",
    "    for num in nums:\n",
    "        if num == candidate:\n",
    "            count += 1\n",
    "\n",
    "    if count > len(nums) // 2:\n",
    "        return candidate\n",
    "    else:\n",
    "        # 根据题意，不会进入此分支\n",
    "        raise ValueError(\"No majority element found\")\n",
    "print(majority_element([3, 2, 3]))          \n",
    "print(majority_element([2, 2, 1, 1, 1, 2, 2])) \n",
    "# your algorithm time complexity is : O(n)"
   ]
  },
  {
   "cell_type": "markdown",
   "metadata": {},
   "source": [
    "算法设计思路:\n",
    "\n",
    "使用摩尔投票法解决该问题。其核心思想是利用数组中多数元素的特性（其出现次数超过数组长度的一半，因此在“抵消”其他元素的过程中仍能保持优势）。\n",
    "\n",
    "时间复杂度与空间复杂度分析\n",
    "\n",
    "时间复杂度：\n",
    "\n",
    "抵消阶段和验证阶段各需遍历数组一次，总时间复杂度为 $O(n)$。\n",
    "\n",
    "空间复杂度：\n",
    "\n",
    "只需常量级别额外空间（candidate 和 count），空间复杂度为 $O(1)$。\n",
    "\n",
    "第2问同样得解"
   ]
  },
  {
   "cell_type": "markdown",
   "metadata": {},
   "source": [
    "idea for 2\\*："
   ]
  },
  {
   "cell_type": "code",
   "execution_count": null,
   "metadata": {},
   "outputs": [
    {
     "name": "stdout",
     "output_type": "stream",
     "text": [
      "3\n",
      "2\n"
     ]
    }
   ],
   "source": [
    "# algorithm time complexity：O(n), space complexity:O(1)\n",
    "# add your code here\n",
    "def majority_element(nums):\n",
    "    # 抵消阶段：找出候选元素\n",
    "    candidate = None\n",
    "    count = 0\n",
    "    for num in nums:\n",
    "        if count == 0:\n",
    "            candidate = num\n",
    "            count = 1\n",
    "        elif num == candidate:\n",
    "            count += 1\n",
    "        else:\n",
    "            count -= 1\n",
    "\n",
    "    # 验证阶段：确认候选元素是否为多数元素\n",
    "    count = 0\n",
    "    for num in nums:\n",
    "        if num == candidate:\n",
    "            count += 1\n",
    "\n",
    "    if count > len(nums) // 2:\n",
    "        return candidate\n",
    "    else:\n",
    "        # 根据题意，不会进入此分支\n",
    "        raise ValueError(\"No majority element found\")\n",
    "print(majority_element([3, 2, 3]))          \n",
    "print(majority_element([2, 2, 1, 1, 1, 2, 2])) "
   ]
  },
  {
   "cell_type": "markdown",
   "metadata": {},
   "source": [
    "## 问题 7：\n",
    "\n",
    "给定一个包含不同整数元素的数组 $ A[1..n]$ ,并且满足条件：$A[1]>A[2]$ 并且 $A[n-1]<A[n]$; 规定：如果一个元素比它两边的邻居元素都小, 即：$A[x]<A[x-1], A[x]<A[x+1]$ , 称这个元素A[x]为“局部最小”。通过遍历一次数组, 我们可以很容易在 $O(n)$的时间复杂度下找到一个局部最小值, \n",
    "\n",
    "\n",
    "1. 分析该问题, 设计一个算法在$O(logn)$的时间复杂度下找到一个局部最小(返回数值), 要求：分析算法设计思路, 并且使用python编程实现\n",
    "2. \\* 设计算法找出所有局部最小值, 分析算法设计思路, 并使用python编程实现\n",
    "\n",
    "e.g.:\n",
    "---\n",
    "A=[9, 3, 7, 2, 1, 4, 5 ] 时,  局部最小元素为 3, 1\n"
   ]
  },
  {
   "cell_type": "markdown",
   "metadata": {},
   "source": [
    "idea："
   ]
  },
  {
   "cell_type": "markdown",
   "metadata": {},
   "source": [
    "算法设计思路：\n",
    "\n",
    "利用二分查找的思想，在非有序数组中找到局部最小值。\n",
    "\n",
    "因为数组满足首元素大于第二个元素（A[0] > A[1]），末尾元素小于倒数第二个元素（A[-1] < A[-2]），因此至少存在一个局部最小值。\n",
    "\n",
    "对于任意中间位置 mid：\n",
    "如果 A[mid] 比左右邻居都小，则直接返回。\n",
    "如果 A[mid] 大于左侧邻居，则左侧必存在局部最小值（因为左侧区域存在下降趋势）。\n",
    "如果 A[mid] 大于右侧邻居，则右侧必存在局部最小值（因为右侧区域存在下降趋势）。\n",
    "\n",
    "通过每次排除一半的搜索区间，最终在 $O(log n)$ 时间内找到一个局部最小值。"
   ]
  },
  {
   "cell_type": "code",
   "execution_count": null,
   "metadata": {},
   "outputs": [
    {
     "name": "stdout",
     "output_type": "stream",
     "text": [
      "1\n"
     ]
    }
   ],
   "source": [
    "# add your code here\n",
    "def find_one_local_min(A):\n",
    "    left = 0\n",
    "    right = len(A) - 1\n",
    "    while left < right:\n",
    "        mid = (left + right) // 2\n",
    "        if A[mid] < A[mid - 1] and A[mid] < A[mid + 1]:\n",
    "            return A[mid]\n",
    "        elif A[mid] > A[mid - 1]:\n",
    "            right = mid\n",
    "        else:\n",
    "            left = mid + 1\n",
    "    return A[left]\n",
    "\n",
    "A = [9, 3, 7, 2, 1, 4, 5]\n",
    "print(find_one_local_min(A)) \n",
    "# your algorithm time complexity is :O(log n)"
   ]
  },
  {
   "cell_type": "markdown",
   "metadata": {},
   "source": [
    "idea 2:\n",
    "\n",
    "算法设计思路\n",
    "\n",
    "遍历数组，检查每个元素是否满足局部最小的条件（比左右邻居小）。由于需要检查所有元素，时间复杂度为 $O(n)$"
   ]
  },
  {
   "cell_type": "code",
   "execution_count": null,
   "metadata": {},
   "outputs": [
    {
     "name": "stdout",
     "output_type": "stream",
     "text": [
      "[3, 1]\n"
     ]
    }
   ],
   "source": [
    "# add your code here\n",
    "def find_all_local_mins(A):\n",
    "    local_mins = []\n",
    "    n = len(A)\n",
    "    for i in range(1, n - 1):\n",
    "        if A[i] < A[i - 1] and A[i] < A[i + 1]:\n",
    "            local_mins.append(A[i])\n",
    "    return local_mins\n",
    "\n",
    "A = [9, 3, 7, 2, 1, 4, 5]\n",
    "print(find_all_local_mins(A)) \n",
    "# your algorithm time complexity is : O(n)"
   ]
  },
  {
   "cell_type": "markdown",
   "metadata": {},
   "source": [
    "## 问题 8：\n",
    "\n",
    "给定包含n个不同数字的一组数, 寻找一种基于比较的算法在这组数中找到k个最小的数字, 并按顺序输出它们。\n",
    "\n",
    "1. 将n个数先进行排序, 然后按顺序输出最小的k个数。要求：选择合适的排序算法实现上述操作, 计算算法时间复杂度, 并使用python编程实现。\n",
    "2. 建立一个包含这n个数的堆（heap）, 并且调用 k 次Extract-min 按顺序输出最小的k个数。使用往空堆中不断插入元素的方法建立堆, 分析这种方法建堆的时间复杂度, 并使用python编程实现\n",
    "3. \\* 假设数组中包含的数据总数目超过了计算机的存储能力, 请设计一个算法, 找到这堆数据的前k小的数值, 计算时间复杂度, 并使用python实现该算法, 假设计算机一定能存储k个数据。\n",
    "\n",
    "e.g.：\n",
    "---\n",
    "数组arr=[5,4,3,2,6,1,88,33,22,107] 的前3个最小数据为：1, 2, 3\n"
   ]
  },
  {
   "cell_type": "markdown",
   "metadata": {},
   "source": [
    "idea1：\n",
    "\n",
    "归并排序法：先排序再取前k个元素\n",
    "\n",
    "排序算法选择归并排序，时间复杂度为 $O(nlogn)$\n",
    "\n",
    "\n",
    "\n"
   ]
  },
  {
   "cell_type": "code",
   "execution_count": 15,
   "metadata": {},
   "outputs": [
    {
     "name": "stdout",
     "output_type": "stream",
     "text": [
      "[1, 2, 3]\n"
     ]
    }
   ],
   "source": [
    "# add your code here\n",
    "def find_k_smallest_sort(arr, k):\n",
    "    # 使用归并排序\n",
    "    def merge_sort(arr):\n",
    "        if len(arr) <= 1:\n",
    "            return arr\n",
    "        mid = len(arr) // 2\n",
    "        left = merge_sort(arr[:mid])\n",
    "        right = merge_sort(arr[mid:])\n",
    "        return merge(left, right)\n",
    "\n",
    "    def merge(left, right):\n",
    "        result = []\n",
    "        i = j = 0\n",
    "        while i < len(left) and j < len(right):\n",
    "            if left[i] < right[j]:\n",
    "                result.append(left[i])\n",
    "                i += 1\n",
    "            else:\n",
    "                result.append(right[j])\n",
    "                j += 1\n",
    "        result.extend(left[i:])\n",
    "        result.extend(right[j:])\n",
    "        return result\n",
    "\n",
    "    sorted_arr = merge_sort(arr)\n",
    "    return sorted_arr[:k]\n",
    "\n",
    "arr = [5, 4, 3, 2, 6, 1, 88, 33, 22, 107]\n",
    "k = 3\n",
    "print(find_k_smallest_sort(arr, k))  \n",
    "# your algorithm time complexity is : O(nlogn)"
   ]
  },
  {
   "cell_type": "markdown",
   "metadata": {},
   "source": [
    "idea 2:\n",
    "\n",
    "使用堆排序，建立堆并调用 k 次 Extract-Min\n",
    "\n",
    "设计思路：\n",
    "\n",
    "建堆方式为逐个插入元素，每次插入的时间复杂度为$O(logn)$。先将所有元素插入最小堆（使用 heapq 模拟），再调用 k 次 heappop 提取最小值。\n",
    "\n",
    "时间复杂度分析：\n",
    "\n",
    "建堆的时间复杂度：$O(nlogn)$(逐个插入n个元素，每次$O(logn))$\n",
    "\n",
    "提取k次：$O(klogn)$\n",
    "\n",
    "总的时间复杂度为$O(nlogn+klogn)$\n"
   ]
  },
  {
   "cell_type": "code",
   "execution_count": null,
   "metadata": {},
   "outputs": [
    {
     "name": "stdout",
     "output_type": "stream",
     "text": [
      "[1, 2, 3]\n"
     ]
    }
   ],
   "source": [
    "# add your code here\n",
    "import heapq\n",
    "\n",
    "def find_k_smallest_heap(arr, k):\n",
    "    # 建立最小堆\n",
    "    heap = []\n",
    "    for num in arr:\n",
    "        heapq.heappush(heap, num)\n",
    "    # 提取 k 次最小值\n",
    "    return [heapq.heappop(heap) for _ in range(k)]\n",
    "\n",
    "\n",
    "arr = [5, 4, 3, 2, 6, 1, 88, 33, 22, 107]\n",
    "k = 3\n",
    "print(find_k_smallest_heap(arr, k)) \n",
    "\n",
    "# your algorithm time complexity is : O(nlogn+klogn)"
   ]
  },
  {
   "cell_type": "markdown",
   "metadata": {},
   "source": [
    "idea 3:\n",
    "\n",
    "数据量超过内存限制的算法设计\n",
    "\n",
    "设计思路:\n",
    "\n",
    "大顶堆优化：维护一个大小为 k 的大顶堆（堆顶为最大值），利用堆的性质筛选前 k 小元素。\n",
    "\n",
    "步骤：\n",
    "\n",
    "初始化一个大顶堆（用负数模拟）。逐个读取数据流中的元素,如果堆未满（小于 k 个元素），直接插入堆。否则，若当前元素小于堆顶（即堆中最大值），替换堆顶并调整堆。\n",
    "\n",
    "最终堆中保存的是前 k 小元素。\n",
    "\n",
    "时间复杂度分析:\n",
    "\n",
    "初始化堆：$O(k)$\n",
    "\n",
    "处理剩余的n-k个元素：每个操作为$O(logk)$,总时间$O((n-k)logk)$\n",
    "\n",
    "因此，总的时间复杂度为$O(nlogk)$"
   ]
  },
  {
   "cell_type": "code",
   "execution_count": null,
   "metadata": {},
   "outputs": [
    {
     "name": "stdout",
     "output_type": "stream",
     "text": [
      "[1, 2, 3]\n"
     ]
    }
   ],
   "source": [
    "# add your code here\n",
    "import heapq\n",
    "\n",
    "def find_k_smallest_large_data(arr, k):\n",
    "    # 使用大顶堆（通过存储负数模拟）\n",
    "    max_heap = []\n",
    "    for num in arr:\n",
    "        if len(max_heap) < k:\n",
    "            heapq.heappush(max_heap, -num)\n",
    "        else:\n",
    "            if -max_heap[0] > num:\n",
    "                heapq.heappop(max_heap)\n",
    "                heapq.heappush(max_heap, -num)\n",
    "    # 返回结果（取反并排序）\n",
    "    return sorted([-x for x in max_heap])\n",
    "\n",
    "\n",
    "import sys\n",
    "def data_stream_generator(arr):\n",
    "    for num in arr:\n",
    "        yield num\n",
    "\n",
    "arr = [5, 4, 3, 2, 6, 1, 88, 33, 22, 107]\n",
    "k = 3\n",
    "print(find_k_smallest_large_data(data_stream_generator(arr), k))\n",
    "\n",
    "# your algorithm time complexity is : O(nlogk)"
   ]
  },
  {
   "cell_type": "markdown",
   "metadata": {},
   "source": [
    "## 问题 9：\n",
    "\n",
    "**选择问题**:给定一个包含n个未排序值的数组A和一个$k≤n$的整数, 返回A中最小的第k项。\n",
    "\n",
    "在课堂上, 学了一个简单的O(n)随机算法来解决选择问题。事实上还有一种更复杂的最坏情况下时间复杂度为$O(n)$ 的选择算法。假设使用一个黑盒过程来实现这个O(n)选择算法: 给定一个数组A、 $p < r$ 和 k,  $BB(A, p, r, k)$ 可以在$O(r−p+ 1)$时间内找到并报告$A[p..r]$中第k小的项的下标。假设你可以在线性时间内处理Partition过程。\n",
    "\n",
    "1. 请分析如何修改 Quicksork 算法可以使其最差情况下的运行时间为 $O(nlogn)$, 使用伪代码实现, 并分析为何修改后的版本最差情况的运行时间为$O(nlogn)$\n",
    "\n",
    "note: 伪代码中, 你可以直接调用用` BB(A,p,r,k)`这个函数用于表示在最坏情况下时间复杂度为$O(n)$的选择算法；\n",
    "\n",
    "\n",
    "\n",
    "2. 找到一个更好的算法报告数组A中的前k小的项, 使用伪代码表示你的算法, 并分析你算法的时间复杂度。\n",
    "\n",
    "举例：A=[13, 3, 7, 9, 11, 1, 15, 2, 8, 10, 12, 16, 14, 5], 当k=4时, 应该报告1, 2, 3, 4\n",
    "\n",
    "note： 最直观的方法就是先将数组A排序, 然后从左向右报告其前k项, 这样操作的时间复杂度为$O(nlogn)$. 调用用` BB(A,p,r,k)`设计一个算法使其报告无序数组A的前k项, 满足时间复杂度好于$\\Theta(nlogn)$, 并且当$k=\\sqrt{n}$时, 你设计的算法时间复杂度应该为$\\Theta(n)$.\n",
    "\n",
    "\n",
    "\n",
    "3. 给定一个大小为n的数组, 找到一个 时间复杂度为$O(n log k)$ 的算法, 该算法将A中的元素重新排序, 使它们被划分为k个部分, 每个部分的元素小于或等于下一部分的元素。假设n和k都是2的幂。使用伪代码表示你的算法, 并分析时间复杂度。\n",
    "\n",
    "e.g.:\n",
    "---\n",
    "数组：[1,  3,  5,  7,  9,  11,  13,  15,  2,  4,  6,  8,  10,  12,  16,  14], k=4, \n",
    "\n",
    "对应重新排序的数组为：[1,  3,  2,  4]  [7,  6,  5,  8]  [12,  11,  10,  9]  [13,  14,  16,  15]\n",
    "\n",
    "\n"
   ]
  },
  {
   "cell_type": "markdown",
   "metadata": {},
   "source": [
    "idea 1：修改 Quicksort 算法以获得$O(nlogn)$最差时间复杂度\n",
    "\n",
    "设计思路\n",
    "\n",
    "核心思想是使用 BB(A, p, r, k) 选择每次划分的主元，确保每次划分后子数组的大小大致相等。\n",
    "\n",
    "在每次排序前，调用 BB 找到当前数组段的中位数作为主元，使得每次划分后的子数组大小最多相差 1。\n",
    "\n",
    "时间复杂度分析：\n",
    "\n",
    "每次划分的时间为$O(n)$\n",
    "\n",
    "递归的深度为$O(logn)$\n",
    "\n",
    "总时间复杂度为$O(nlogn)$"
   ]
  },
  {
   "cell_type": "code",
   "execution_count": 20,
   "metadata": {},
   "outputs": [],
   "source": [
    "# add your pseudo-code here"
   ]
  },
  {
   "cell_type": "markdown",
   "metadata": {},
   "source": [
    "```\n",
    "MODIFIED-QUICKSORT(A, p, r)\n",
    "    if p < r\n",
    "        k = (r - p + 1) // 2          // 选择中间位置的元素作为主元\n",
    "        q = BB(A, p, r, k)            // 找到第k小的元素的索引\n",
    "        SWAP A[q] and A[r]            // 将主元移动到末尾\n",
    "        pivot = PARTITION(A, p, r)    // 划分数组\n",
    "        MODIFIED-QUICKSORT(A, p, pivot - 1)\n",
    "        MODIFIED-QUICKSORT(A, pivot + 1, r)\n",
    "```"
   ]
  },
  {
   "cell_type": "markdown",
   "metadata": {},
   "source": [
    "idea 2:报告前k小元素的优化算法\n",
    "\n",
    "设计思路\n",
    "\n",
    "核心思想是利用函数 BB 找到第k小的元素，再通过划分获取所有小于等于该元素的项。\n",
    "\n",
    "调用 BB(A, 0, n-1, k) 找到第k小的元素 x。\n",
    "然后将数组划分为两部分：<= x 和 >= x。\n",
    "然后返回前一部分的所有元素。\n",
    "\n",
    "时间复杂度分析：\n",
    "\n",
    "BB:$O(n)$\n",
    "\n",
    "划分时间为：$O(n)$\n",
    "\n",
    "因此总的时间复杂度为$O(n)$,优于$\\Theta(n)$"
   ]
  },
  {
   "cell_type": "code",
   "execution_count": null,
   "metadata": {},
   "outputs": [],
   "source": [
    "# add your pseudo-code here"
   ]
  },
  {
   "cell_type": "markdown",
   "metadata": {},
   "source": [
    "```\n",
    "FIND-K-SMALLEST(A, k)\n",
    "    x = BB(A, 0, n-1, k)              // 找到第k小的元素\n",
    "    PARTITION(A, x)                   // 将数组划分为两部分\n",
    "    return A[0..k-1]                  // 返回前k小的元素\n",
    "```"
   ]
  },
  {
   "cell_type": "markdown",
   "metadata": {},
   "source": [
    "idea 3:划分数组为k个有序部分的算法\n",
    "\n",
    "设计思路\n",
    "\n",
    "核心思想采用递归分治，每次将数组划分为两半，每半再递归划分为更小的块。\n",
    "\n",
    "先使用 BB 找到当前分组的中间分界点。再将数组划分为两部分，分别递归处理。最后保证每部分的元素小于等于后续部分。\n",
    "\n",
    "时间复杂度分析：\n",
    "\n",
    "每次划分的时间为$O(n)$\n",
    "\n",
    "递归深度为$logk$\n",
    "\n",
    "因此总的时间复杂度为$O(nlogk)$"
   ]
  },
  {
   "cell_type": "code",
   "execution_count": null,
   "metadata": {},
   "outputs": [],
   "source": [
    "# add your pseudo-code here"
   ]
  },
  {
   "cell_type": "markdown",
   "metadata": {},
   "source": [
    "```\n",
    "REARRANGE(A, k)\n",
    "    if k == 1\n",
    "        return A\n",
    "    s = n / k                        // 每个分组的大小\n",
    "    mid_k = k / 2                  // 当前划分的中间分组数\n",
    "    pivot_index = BB(A, 0, n-1, s * mid_k)  // 找到分界点\n",
    "    pivot = A[pivot_index]         // 分界点的值\n",
    "    LEFT = [x ∈ A | x ≤ pivot]     // 左半部分\n",
    "    RIGHT = [x ∈ A | x ≥ pivot]    // 右半部分\n",
    "    REARRANGE(LEFT, mid_k)         // 递归处理左半部分\n",
    "    REARRANGE(RIGHT, k - mid_k)    // 递归处理右半部分\n",
    "    return LEFT ++ RIGHT           // 合并结果\n",
    "```"
   ]
  },
  {
   "cell_type": "markdown",
   "metadata": {},
   "source": [
    "## 问题 10：\n",
    "\n",
    "给定一个包含m个**字符串**的数组A, 其中不同的字符串可能有不同的字符数, 但数组中所有字符串的字符总数为n。设计一个算法在 $O(n)$ 时间内对字符串进行排序, 分析算法设计方案, 计算其时间复杂度, 并基于python编程实现该算法。请注意, 假设字符串只包含\"a\",\"b\",...,\"z\", \n",
    "\n",
    "\n",
    "\n",
    "举例1：数组A=[\"a\", \"da\", \"bde\", \"ab\", \"bc\", \"abdc\", \"cdba\"], 排序后的数组应该为：['a', 'ab', 'abdc', 'bc', 'bde', 'cdba', 'da']\n",
    "\n",
    "\n",
    "\n",
    "举例2：数组A=['ab', 'a', 'b', 'abc', 'ba', 'c'], 排序后的数组应该为：\n",
    "\n",
    "['a', 'ab', 'abc', 'b', 'ba', 'c']\n",
    "\n",
    "\n",
    "\n",
    "举例3：数组A=['aef', 'yzr', 'wr', 'ab', 'bhjc', 'lkabdc', 'pwcdba'],  排序后的数组应该为：['ab', 'aef', 'bhjc', 'lkabdc', 'pwcdba', 'wr', 'yzr']\n",
    "\n",
    "\n",
    "\n",
    "note：\n",
    "\n",
    "-  两个字符之间的比较可以考虑比较他们对应的ASCII码值；\n",
    "- python中可以使用`ord(\"a\")`返回字符 “a”对应的ASCII值"
   ]
  },
  {
   "cell_type": "markdown",
   "metadata": {},
   "source": [
    "idea:\n",
    "\n",
    "#### 算法设计\n",
    "为了在$O(n)$时间内对一组字符串进行字典序排序（其中所有字符串的字符总数为 n，且仅包含小写字母），可使用MSD基数排序的变种。该方法的核心思想是从最左边的字符（第一个字符）开始处理，将字符串按当前字符分配到桶中，并递归处理下一个字符，直到处理完所有字符位置。\n",
    "\n",
    "核心思路是通过MSD基数排序，从最左边的字符开始处理，将字符串按当前字符分配到桶中。\n",
    "\n",
    "然后处理不同长度的字符串，对于长度小于当前处理位的字符串，将其视为在该位置填充了一个比所有实际字符小的字符（'\\0'，ASCII 0）。\n",
    "\n",
    "在桶的划分中，将每个字符映射到桶编号（'a' 到 26，'\\0' 为 0），总共 27 个桶。\n",
    "\n",
    "最后递归排序，即对每个桶递归处理下一位，直到处理完所有字符位置。\n",
    "\n",
    "#### 实现细节\n",
    "找出所有字符串的最大长度 max_len后，从最高位（第一个字符）开始，逐位处理每个字符，然后将字符映射到桶编号（'\\0' 为 0，'a' 为 1，... 'z' 为 26）。对每个桶递归处理下一位，直到处理完所有位。最后将所有桶中的字符串按顺序合并。\n",
    "\n",
    "#### 时间复杂度分析\n",
    "每个字符被处理一次，总共 n 个字符。每个字符的处理时间是 $O(1)$\n",
    "\n",
    "因此总的时间复杂度为$O(n)$,满足题意"
   ]
  },
  {
   "cell_type": "code",
   "execution_count": null,
   "metadata": {},
   "outputs": [
    {
     "name": "stdout",
     "output_type": "stream",
     "text": [
      "['a', 'ab', 'abdc', 'bc', 'bde', 'cdba', 'da']\n",
      "['a', 'ab', 'abc', 'b', 'ba', 'c']\n",
      "['ab', 'aef', 'bhjc', 'lkabdc', 'pwcdba', 'wr', 'yzr']\n"
     ]
    }
   ],
   "source": [
    "# add your code here\n",
    "def sort_strings_radix(strings):\n",
    "    if not strings:\n",
    "        return []\n",
    "\n",
    "    max_len = max(len(s) for s in strings)\n",
    "\n",
    "    def msd_sort(arr, position):\n",
    "        if not arr or position >= max_len:\n",
    "            return arr\n",
    "\n",
    "        # 创建 27 个桶\n",
    "        buckets = [[] for _ in range(27)]\n",
    "\n",
    "        for s in arr:\n",
    "            # 如果字符串长度不够，填充 '\\0'\n",
    "            if len(s) > position:\n",
    "                char = s[position]\n",
    "            else:\n",
    "                char = '\\0'\n",
    "\n",
    "            # 映射到桶编号\n",
    "            if char == '\\0':\n",
    "                bucket_idx = 0\n",
    "            else:\n",
    "                bucket_idx = ord(char) - ord('a') + 1\n",
    "\n",
    "            buckets[bucket_idx].append(s)\n",
    "\n",
    "        # 递归处理每个桶\n",
    "        result = []\n",
    "        for bucket in buckets:\n",
    "            if bucket:\n",
    "                sorted_bucket = msd_sort(bucket, position + 1)\n",
    "                result.extend(sorted_bucket)\n",
    "\n",
    "        return result\n",
    "\n",
    "    return msd_sort(strings, 0)\n",
    "\n",
    "#测试\n",
    "A1 = [\"a\", \"da\", \"bde\", \"ab\", \"bc\", \"abdc\", \"cdba\"]\n",
    "sorted_A1 = sort_strings_radix(A1)\n",
    "print(sorted_A1)\n",
    "\n",
    "A2 = ['ab', 'a', 'b', 'abc', 'ba', 'c']\n",
    "sorted_A2 = sort_strings_radix(A2)\n",
    "print(sorted_A2)\n",
    "\n",
    "A3 = ['aef', 'yzr', 'wr', 'ab', 'bhjc', 'lkabdc', 'pwcdba']\n",
    "sorted_A3 = sort_strings_radix(A3)\n",
    "print(sorted_A3)\n",
    "\n",
    "\n",
    "# your algorithm time complexity is : O(n)"
   ]
  }
 ],
 "metadata": {
  "kernelspec": {
   "display_name": "base",
   "language": "python",
   "name": "python3"
  },
  "language_info": {
   "codemirror_mode": {
    "name": "ipython",
    "version": 3
   },
   "file_extension": ".py",
   "mimetype": "text/x-python",
   "name": "python",
   "nbconvert_exporter": "python",
   "pygments_lexer": "ipython3",
   "version": "3.12.7"
  }
 },
 "nbformat": 4,
 "nbformat_minor": 2
}
